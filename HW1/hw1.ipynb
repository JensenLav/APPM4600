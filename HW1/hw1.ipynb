{
 "cells": [
  {
   "cell_type": "code",
   "execution_count": null,
   "id": "d37c2f3d",
   "metadata": {},
   "outputs": [],
   "source": [
    "import numpy as np\n",
    "import matplotlib.pyplot as plt\n",
    "import sympy as sp\n",
    "from IPython.display import display, Math"
   ]
  },
  {
   "cell_type": "markdown",
   "id": "30f82773",
   "metadata": {},
   "source": [
    "## Problem 1"
   ]
  },
  {
   "cell_type": "code",
   "execution_count": 34,
   "id": "0d6a3514",
   "metadata": {},
   "outputs": [
    {
     "data": {
      "text/plain": [
       "np.float64(0.0)"
      ]
     },
     "execution_count": 34,
     "metadata": {},
     "output_type": "execute_result"
    }
   ],
   "source": [
    "#a)\n",
    "x = 10e-30\n",
    "np.sqrt(x + 1) - 1"
   ]
  },
  {
   "cell_type": "code",
   "execution_count": 138,
   "id": "68c8ce47",
   "metadata": {},
   "outputs": [
    {
     "data": {
      "text/latex": [
       "$\\displaystyle \\frac{\\sqrt{x + 1} + 1}{\\sqrt{x + 1} + 1} \\left(\\sqrt{x + 1} - 1\\right) = \\frac{x}{\\sqrt{x + 1} + 1}$"
      ],
      "text/plain": [
       "<IPython.core.display.Math object>"
      ]
     },
     "metadata": {},
     "output_type": "display_data"
    }
   ],
   "source": [
    "\"\"\"\n",
    "Trying to display multiplying by the conjugate was WAY more dificult than I thought. sympy always reduced it down to 1 and didnt show it. I tried to look at the documentation but I couldn't find anything useful. \n",
    "on the docs I found I can set evaluate to false but that didnt help. \n",
    "Ultimitly after an hour+ of trying I asked a LLM and it helped me figure it out by using the latex function to display the expressions.\n",
    "*** I DID ALL THIS MATH ON PEN AND PAPER BEFORE CODING SO LLM DID NOT GIVE ME AWNSER ONLY CODE FOR DISPLAYING ***\n",
    "\"\"\"\n",
    "x = sp.symbols('x')\n",
    "\n",
    "expr = sp.sqrt(x + 1) - 1\n",
    "conjugate_half = sp.sqrt(x + 1) + 1\n",
    "\n",
    "conjugate_fraction = sp.Mul(conjugate_half, sp.Pow(conjugate_half, -1, evaluate=False), evaluate=False)\n",
    "\n",
    "product = sp.Mul(conjugate_fraction, expr, evaluate=False)\n",
    "\n",
    "simplified_numerator = sp.expand(expr * conjugate_half)\n",
    "final_result = sp.simplify(simplified_numerator / conjugate_half)\n",
    "\n",
    "display(Math(sp.latex(product) + \" = \" + sp.latex(final_result)))"
   ]
  },
  {
   "cell_type": "code",
   "execution_count": 12,
   "id": "0aece5d0",
   "metadata": {},
   "outputs": [
    {
     "data": {
      "text/plain": [
       "np.float64(5e-30)"
      ]
     },
     "execution_count": 12,
     "metadata": {},
     "output_type": "execute_result"
    }
   ],
   "source": [
    "#a) multiple by the conjugate to get a more friendly ratio \n",
    "x = 10e-30\n",
    "x / (np.sqrt(x + 1) + 1)"
   ]
  },
  {
   "cell_type": "code",
   "execution_count": 148,
   "id": "4ae0044d",
   "metadata": {},
   "outputs": [
    {
     "data": {
      "text/plain": [
       "np.float64(0.0)"
      ]
     },
     "execution_count": 148,
     "metadata": {},
     "output_type": "execute_result"
    }
   ],
   "source": [
    "#b)\n",
    "a = 5\n",
    "x = 10e-30\n",
    "z = np.sin(2 * (x + a)) - np.sin(2 * a)\n",
    "z"
   ]
  },
  {
   "cell_type": "code",
   "execution_count": 149,
   "id": "12d0baa3",
   "metadata": {},
   "outputs": [
    {
     "name": "stdout",
     "output_type": "stream",
     "text": [
      "Sum to product identity\n"
     ]
    },
    {
     "data": {
      "text/latex": [
       "$\\displaystyle - \\sin{\\left(2 a \\right)} + \\sin{\\left(2 \\left(a + x\\right) \\right)} = 2 \\sin{\\left(\\frac{- 2 a + 2 \\left(a + x\\right)}{2} \\right)} \\cos{\\left(\\frac{2 a + 2 \\left(a + x\\right)}{2} \\right)}$"
      ],
      "text/plain": [
       "<IPython.core.display.Math object>"
      ]
     },
     "metadata": {},
     "output_type": "display_data"
    },
    {
     "data": {
      "text/latex": [
       "$\\displaystyle 2 \\sin{\\left(\\frac{- 2 a + 2 \\left(a + x\\right)}{2} \\right)} \\cos{\\left(\\frac{2 a + 2 \\left(a + x\\right)}{2} \\right)} = 2 \\sin{\\left(x \\right)} \\cos{\\left(2 a + x \\right)}$"
      ],
      "text/plain": [
       "<IPython.core.display.Math object>"
      ]
     },
     "metadata": {},
     "output_type": "display_data"
    }
   ],
   "source": [
    "\"\"\"\n",
    "did this one all by myself using the example above.\n",
    "it gets Ugly but works\n",
    "\"\"\"\n",
    "\n",
    "x = sp.symbols('x')\n",
    "a = sp.symbols('a')\n",
    "theta = sp.Mul(2  ,sp.Pow(x + a, 1), evaluate=False)\n",
    "alpha = sp.Mul(2  ,sp.Pow(a, 1), evaluate=False)\n",
    "\n",
    "print(\"Sum to product identity\")\n",
    "original = sp.sin(sp.Mul(2  ,sp.Pow(x + a, 1), evaluate=False), evaluate=False) - sp.sin(sp.Mul(2, a, evaluate=False))\n",
    "\n",
    "sum_to_product_no_eval = sp.Mul(2, sp.cos(sp.Mul(sp.Mul(1, sp.Pow(2,-1)), sp.Add(theta , alpha, evaluate=False), evaluate=False)) * sp.sin(sp.Mul(sp.Mul(1, sp.Pow(2,-1)),(theta - alpha), evaluate=False)))\n",
    "display(Math(sp.latex(original) + \" = \" + sp.latex(sum_to_product_no_eval)))\n",
    "\n",
    "sum_to_product_eval = sp.Mul(2, sp.cos(sp.Mul(sp.Mul(1, sp.Pow(2,-1)), sp.Add(theta , alpha, evaluate=True), evaluate=True)) * sp.sin(sp.Mul(sp.Mul(1, sp.Pow(2,-1)),(theta - alpha), evaluate=True)))\n",
    "display(Math(sp.latex(sum_to_product_no_eval) + \" = \" + sp.latex(sum_to_product_eval)))"
   ]
  },
  {
   "cell_type": "code",
   "execution_count": 146,
   "id": "4dd6bad0",
   "metadata": {},
   "outputs": [
    {
     "data": {
      "text/plain": [
       "np.float64(-1.6781430581529048e-29)"
      ]
     },
     "execution_count": 146,
     "metadata": {},
     "output_type": "execute_result"
    }
   ],
   "source": [
    "#b)\n",
    "#sum to products: https://en.wikipedia.org/wiki/List_of_trigonometric_identities i forgot my trig identites \n",
    "x = 10e-30\n",
    "a = 5\n",
    "z = 2 * np.cos(x + 2 * a) * np.sin(x)\n",
    "z"
   ]
  },
  {
   "cell_type": "markdown",
   "id": "25f71161",
   "metadata": {},
   "source": [
    "## Problem 2\n",
    "\n"
   ]
  },
  {
   "cell_type": "markdown",
   "id": "a4a7ab81",
   "metadata": {},
   "source": [
    "a) to get a straight line you need to logarithmically scale the y-axis and x-axis. If you just do the y-axis then the relationship is not linear. For example if you just do the right side the exponent becomes a linear term but Cn is still scalled logarithmically. "
   ]
  },
  {
   "cell_type": "markdown",
   "id": "bb3bb4db",
   "metadata": {},
   "source": [
    "b) to get a straight line you only need to scale logarithmically the y-axis because when you do take the log of the right side the term that is changing is now linear. "
   ]
  },
  {
   "cell_type": "markdown",
   "id": "7aac784c",
   "metadata": {},
   "source": [
    "c) I did not know what superlinear or sublinear is so I had to look it up here: https://en.wikipedia.org/wiki/Rate_of_convergence\n",
    "I belive it to be sublinear because >1 its more than linear but <1 its slower than linear. Still looks like it converges to zero too. it fits (D,p) better with parameters of roughly (6,0.9)"
   ]
  },
  {
   "cell_type": "markdown",
   "id": "84894685",
   "metadata": {},
   "source": [
    "d) looks like it converges quadratically and fits closer to (C,a) with parameters (3,1.5)"
   ]
  },
  {
   "cell_type": "markdown",
   "id": "cf38c79d",
   "metadata": {},
   "source": [
    "## Problem 3"
   ]
  },
  {
   "cell_type": "markdown",
   "id": "25b919e2",
   "metadata": {},
   "source": [
    "see extra pdf page for handwriten solution"
   ]
  },
  {
   "cell_type": "markdown",
   "id": "a469d585",
   "metadata": {},
   "source": [
    "## Problem 4"
   ]
  },
  {
   "cell_type": "code",
   "execution_count": 236,
   "id": "2744858a",
   "metadata": {},
   "outputs": [
    {
     "data": {
      "text/plain": [
       "np.float64(1.000000082740371e-09)"
      ]
     },
     "execution_count": 236,
     "metadata": {},
     "output_type": "execute_result"
    }
   ],
   "source": [
    "expr = np.exp(10**-9) - 1\n",
    "expr"
   ]
  },
  {
   "cell_type": "code",
   "execution_count": 243,
   "id": "40426a7b",
   "metadata": {},
   "outputs": [
    {
     "data": {
      "text/plain": [
       "1.0000000005000001e-09"
      ]
     },
     "execution_count": 243,
     "metadata": {},
     "output_type": "execute_result"
    }
   ],
   "source": [
    "#tab line complete went out way farther than what I needed but shows that no matter how far I go it doesnt matter I still get the same digits lost no matter what\n",
    "10**-9 + ((10**-9)**2) /2 + ((10**-9)**3)/6 + ((10**-9)**4)/24 + ((10**-9)**5)/120 + ((10**-9)**6)/720 + ((10**-9)**7)/5040 + ((10**-9)**8)/40320 + ((10**-9)**9)/362880"
   ]
  }
 ],
 "metadata": {
  "kernelspec": {
   "display_name": "Python (stocks)",
   "language": "python",
   "name": "stocks"
  },
  "language_info": {
   "codemirror_mode": {
    "name": "ipython",
    "version": 3
   },
   "file_extension": ".py",
   "mimetype": "text/x-python",
   "name": "python",
   "nbconvert_exporter": "python",
   "pygments_lexer": "ipython3",
   "version": "3.13.5"
  }
 },
 "nbformat": 4,
 "nbformat_minor": 5
}
