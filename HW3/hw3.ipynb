{
 "cells": [
  {
   "cell_type": "code",
   "execution_count": 5,
   "id": "3fbfc6e0",
   "metadata": {},
   "outputs": [],
   "source": [
    "import numpy as np\n",
    "from matplotlib import pyplot as plt"
   ]
  },
  {
   "cell_type": "code",
   "execution_count": 6,
   "id": "7fe625f2",
   "metadata": {},
   "outputs": [
    {
     "name": "stdout",
     "output_type": "stream",
     "text": [
      "Size of grid is n=2471184\n"
     ]
    },
    {
     "data": {
      "text/plain": [
       "np.float64(-1.8012523128151838)"
      ]
     },
     "execution_count": 6,
     "metadata": {},
     "output_type": "execute_result"
    }
   ],
   "source": [
    "def Michalewicz_2D(x, y):\n",
    "    return -(np.sin(x) * np.sin(x**2 / np.pi)**20) - (np.sin(y) * np.sin(2 * y**2 / np.pi)**20)\n",
    "\n",
    "#for 10^-1 accuracy\n",
    "m = 1572\n",
    "gird1D = np.linspace(0,np.pi,m)\n",
    "x,y = np.meshgrid(gird1D,gird1D)\n",
    "n = x.size\n",
    "print(f'Size of grid is {n=}')\n",
    "f = Michalewicz_2D(x,y)\n",
    "np.min(f)"
   ]
  }
 ],
 "metadata": {
  "kernelspec": {
   "display_name": "APPM4600",
   "language": "python",
   "name": "python3"
  },
  "language_info": {
   "codemirror_mode": {
    "name": "ipython",
    "version": 3
   },
   "file_extension": ".py",
   "mimetype": "text/x-python",
   "name": "python",
   "nbconvert_exporter": "python",
   "pygments_lexer": "ipython3",
   "version": "3.10.18"
  }
 },
 "nbformat": 4,
 "nbformat_minor": 5
}
